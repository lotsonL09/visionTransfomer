{
 "cells": [
  {
   "cell_type": "code",
   "execution_count": 1,
   "metadata": {},
   "outputs": [
    {
     "name": "stderr",
     "output_type": "stream",
     "text": [
      "c:\\Proyectos\\PAPER\\venv\\lib\\site-packages\\tqdm\\auto.py:21: TqdmWarning: IProgress not found. Please update jupyter and ipywidgets. See https://ipywidgets.readthedocs.io/en/stable/user_install.html\n",
      "  from .autonotebook import tqdm as notebook_tqdm\n"
     ]
    }
   ],
   "source": [
    "import torch\n",
    "import torchvision\n",
    "import matplotlib.pyplot as plt\n",
    "import os\n",
    "from torch.utils.data import DataLoader\n",
    "import torch.nn as nn\n",
    "from torchinfo import summary\n",
    "from tqdm.auto import tqdm\n",
    "import cv2\n",
    "import pathlib\n",
    "from enum import Enum\n",
    "from torchvision.transforms import transforms\n",
    "from torch.utils.data import DataLoader,Dataset\n",
    "import re"
   ]
  },
  {
   "cell_type": "markdown",
   "metadata": {},
   "source": [
    "## Device diagnostic"
   ]
  },
  {
   "cell_type": "code",
   "execution_count": 2,
   "metadata": {},
   "outputs": [
    {
     "data": {
      "text/plain": [
       "'cuda'"
      ]
     },
     "execution_count": 2,
     "metadata": {},
     "output_type": "execute_result"
    }
   ],
   "source": [
    "device='cuda' if torch.cuda.is_available() else 'cpu'\n",
    "device"
   ]
  },
  {
   "cell_type": "markdown",
   "metadata": {},
   "source": [
    "## PatchEmbedding"
   ]
  },
  {
   "cell_type": "code",
   "execution_count": 3,
   "metadata": {},
   "outputs": [],
   "source": [
    "class PatchEmbedding(nn.Module):\n",
    "    def __init__(self, in_channels:int=3,\n",
    "                patch_size:int=16,\n",
    "                embedding_dim:int=768):\n",
    "        super().__init__()\n",
    "\n",
    "        self.patcher=nn.Conv2d(in_channels=in_channels,\n",
    "                            out_channels=embedding_dim,\n",
    "                            kernel_size=patch_size,\n",
    "                            stride=patch_size,\n",
    "                            padding=0)\n",
    "        self.flatten=nn.Flatten(start_dim=2,end_dim=3) #only flatten the feature map dimension\n",
    "\n",
    "        self.patch_size=patch_size\n",
    "    \n",
    "    def forward(self,x:torch.tensor):\n",
    "        #image_resolution=x.shape[-1] #quadratic images\n",
    "        bs,frames,channels,height,width=x.shape\n",
    "        #print(f\"Image resolution {image_resolution}\")\n",
    "        assert height % self.patch_size == 0, f\"Input image size must be divisible by patch size\"\n",
    "\n",
    "        x=x.view(bs*frames,channels,height,width)\n",
    "        \n",
    "        x_patched=self.patcher(x)\n",
    "\n",
    "        #print(f\"Shape after Patch Embedding {x_patched.shape}\")\n",
    "\n",
    "        x_flattened=self.flatten(x_patched)\n",
    "\n",
    "        #print(f\"Shape after flatten {x_flattened.shape}\")\n",
    "\n",
    "        x=x_flattened.permute(0,2,1)\n",
    "\n",
    "        _,n_patches,emb_dim=x.shape\n",
    "\n",
    "        x=x.view(bs,frames,n_patches,emb_dim)\n",
    "\n",
    "        return x"
   ]
  },
  {
   "cell_type": "markdown",
   "metadata": {},
   "source": [
    "## Tubelet embedding"
   ]
  },
  {
   "cell_type": "code",
   "execution_count": 4,
   "metadata": {},
   "outputs": [],
   "source": [
    "class TubeletEmbedding(nn.Module):\n",
    "    def __init__(self, in_channels:int=3,\n",
    "                tubelet_size:tuple=(2,16,16),\n",
    "                d_model:int=768):\n",
    "        super().__init__()\n",
    "\n",
    "        self.patcher=nn.Conv3d(in_channels=in_channels,\n",
    "                            out_channels=d_model,\n",
    "                            kernel_size=tubelet_size,\n",
    "                            stride=tubelet_size)\n",
    "        \n",
    "        self.flatten=nn.Flatten(start_dim=3,end_dim=4)\n",
    "        \n",
    "    def forward(self,x:torch.tensor):\n",
    "        x=x.permute(0,2,1,3,4)\n",
    "        x_patched=self.patcher(x)\n",
    "        #print(f\"Shape after the pacth embedding: {x_patched.shape}\")\n",
    "        x_flatten=self.flatten(x_patched)\n",
    "        #print(f\"Shape after the flatten: {x_flatten.shape}\")\n",
    "        x=x_flatten.permute(0,2,3,1)\n",
    "        #print(f\"Shape after the permute: {x.shape}\")\n",
    "        return x"
   ]
  },
  {
   "cell_type": "code",
   "execution_count": 5,
   "metadata": {},
   "outputs": [
    {
     "data": {
      "text/plain": [
       "torch.Size([32, 10, 3, 224, 224])"
      ]
     },
     "execution_count": 5,
     "metadata": {},
     "output_type": "execute_result"
    }
   ],
   "source": [
    "tensor_sample=torch.randn((32,10,3,224,224))\n",
    "tensor_sample.shape"
   ]
  },
  {
   "cell_type": "code",
   "execution_count": 6,
   "metadata": {},
   "outputs": [],
   "source": [
    "#patch_embedding=PatchEmbedding(in_channels=3)\n",
    "patch_embedding=TubeletEmbedding()\n",
    "patches=patch_embedding(tensor_sample)\n",
    "#print(f\"Shape after the patch embedding {patches.shape}\")"
   ]
  },
  {
   "cell_type": "markdown",
   "metadata": {},
   "source": [
    "## Vision Transformer"
   ]
  },
  {
   "cell_type": "code",
   "execution_count": 7,
   "metadata": {},
   "outputs": [],
   "source": [
    "class ViT(nn.Module):\n",
    "    def __init__(self,\n",
    "                img_size:int=224,\n",
    "                num_channels:int=3,\n",
    "                patch_size:int=16,\n",
    "                dropout:int=0.1,\n",
    "                mlp_size:int=3072,\n",
    "                num_transformer_layer:int=12,\n",
    "                num_heads:int=12,\n",
    "                num_classes:int=3):\n",
    "        super().__init__()\n",
    "        assert img_size % patch_size ==0, \"Image size must be divisible by patch size\"\n",
    "\n",
    "        embedding_dim=(patch_size ** 2) * num_channels\n",
    "\n",
    "        #1. Create patch embedding\n",
    "        self.patch_embedding=PatchEmbedding(in_channels=num_channels,\n",
    "                                            patch_size=patch_size,\n",
    "                                            embedding_dim=embedding_dim)\n",
    "        \n",
    "        #2. Create class token\n",
    "        self.cls_token=nn.Parameter(torch.randn((1,1,embedding_dim)),\n",
    "                                    requires_grad=True)\n",
    "        \n",
    "        #3. Create positional embedding\n",
    "        num_patches=(img_size ** 2) // (patch_size**2)\n",
    "\n",
    "        self.positional_embedding=nn.Parameter(torch.randn((1,1+num_patches,embedding_dim)))\n",
    "\n",
    "        #4. Create patch + position embedding dropout\n",
    "\n",
    "        self.embedding_dropout=nn.Dropout(p=dropout)\n",
    "\n",
    "        #5. Create Transformer Encoder Layer \n",
    "        self.transformer_encoder_layer=nn.TransformerEncoderLayer(d_model=embedding_dim,\n",
    "                                                                nhead=num_heads,\n",
    "                                                                dim_feedforward=mlp_size,\n",
    "                                                                batch_first=True,\n",
    "                                                                activation='gelu',\n",
    "                                                                norm_first=True)\n",
    "        \n",
    "        #6. Create task Transformer Encoder Layers\n",
    "        self.transformer_encoder=nn.TransformerEncoder(encoder_layer=self.transformer_encoder_layer,\n",
    "                                                    num_layers=num_transformer_layer)\n",
    "        \n",
    "        #7. Create MLP head\n",
    "\n",
    "        self.mlp_head=nn.Sequential(\n",
    "            nn.LayerNorm(normalized_shape=embedding_dim),\n",
    "            nn.Linear(in_features=embedding_dim,out_features=num_classes)\n",
    "        )\n",
    "\n",
    "    def forward(self,x:torch.tensor):\n",
    "        bs=x.shape[0]\n",
    "\n",
    "        print(f\"Batch size : {bs}\")\n",
    "        \n",
    "        x=self.patch_embedding(x)\n",
    "\n",
    "        print(f\"Shape after Patch Embedding {x.shape}\")\n",
    "        \n",
    "        cls_token=self.cls_token.expand(bs,-1,-1)\n",
    "\n",
    "        print(f\"New dimension for class token: {cls_token.shape}\")\n",
    "        \n",
    "        x=torch.cat((cls_token,x),dim=1)\n",
    "\n",
    "        print(f\"Shape of X after the concatenation : {x.shape}\")\n",
    "\n",
    "        embedding_pos=self.positional_embedding.expand(bs,-1,-1) #TODO: Comprobar si el cambio hecho esta bien\n",
    "\n",
    "        print(f\"Positional embedding shape: {embedding_pos.shape}\")\n",
    "\n",
    "        x=embedding_pos + x\n",
    "\n",
    "        print(f\"Shape after the merge with position embedding : {x.shape}\")\n",
    "\n",
    "        x=self.embedding_dropout(x)\n",
    "\n",
    "        x=self.transformer_encoder(x)\n",
    "\n",
    "        print(f\"Shape after the transformer encoder\")\n",
    "\n",
    "        x=self.mlp_head(x[:,0])\n",
    "\n",
    "        return x\n",
    "\n"
   ]
  },
  {
   "cell_type": "markdown",
   "metadata": {},
   "source": [
    "## Video Vision Transformer"
   ]
  },
  {
   "cell_type": "code",
   "execution_count": 8,
   "metadata": {},
   "outputs": [],
   "source": [
    "class TransformerEncoder(nn.Module):\n",
    "    def __init__(self, d_model,\n",
    "                num_heads,\n",
    "                num_layers,\n",
    "                mlp_size:int,\n",
    "                activaction:str='gelu',\n",
    "                batch_first:bool=True,\n",
    "                norm_first:bool=True,\n",
    "                dropout:int=0.1):\n",
    "        super().__init__()\n",
    "        self.transformer_encoder_layer=nn.TransformerEncoderLayer(d_model=d_model,\n",
    "                                                                nhead=num_heads,\n",
    "                                                                dim_feedforward=mlp_size,\n",
    "                                                                dropout=dropout,\n",
    "                                                                activation=activaction,\n",
    "                                                                batch_first=batch_first,\n",
    "                                                                norm_first=norm_first)\n",
    "        self.transformer_encoder=nn.TransformerEncoder(encoder_layer=self.transformer_encoder_layer,\n",
    "                                                    num_layers=num_layers)\n",
    "    \n",
    "    def forward(self,x:torch.tensor):\n",
    "        x=self.transformer_encoder(x)\n",
    "        return x"
   ]
  },
  {
   "cell_type": "code",
   "execution_count": 9,
   "metadata": {},
   "outputs": [],
   "source": [
    "class ViViTFactorized(nn.Module):\n",
    "    def __init__(self, in_channels:int=3,\n",
    "                num_frames:int=8,\n",
    "                img_size:int=224,\n",
    "                tubelet_size:tuple=(2,16,16),\n",
    "                d_model:int=768,\n",
    "                num_heads:int=8,\n",
    "                num_layers:int=6,\n",
    "                mlp_size:int=3072,\n",
    "                num_classes:int=3):\n",
    "        super().__init__()\n",
    "\n",
    "        # self.patch_embedding=PatchEmbedding(in_channels=in_channels,\n",
    "        #                                     patch_size=patch_size,\n",
    "        #                                     embedding_dim=d_model)\n",
    "\n",
    "        self.patch_embedding=TubeletEmbedding(in_channels=in_channels,\n",
    "                                            tubelet_size=tubelet_size,\n",
    "                                            d_model=d_model)\n",
    "\n",
    "        num_patches=(img_size // tubelet_size[1]) ** 2\n",
    "\n",
    "        #cls tokens para el espacio y tiempo\n",
    "\n",
    "        self.spatial_cls_token=nn.Parameter(torch.randn(1,1,d_model))\n",
    "        \n",
    "        self.temporal_cls_token=nn.Parameter(torch.randn(1,1,d_model))\n",
    "\n",
    "        #Posicionales separadas para espacio y tiempo\n",
    "\n",
    "        self.spatial_pos_embedding=nn.Parameter(torch.randn(1,num_patches+1,d_model))\n",
    "\n",
    "        self.temporal_pos_embedding=nn.Parameter(torch.randn(1,num_frames+1,d_model))\n",
    "\n",
    "        # Encoder separados\n",
    "\n",
    "        self.spatial_encoder=TransformerEncoder(d_model=d_model,\n",
    "                                                num_heads=num_heads,\n",
    "                                                num_layers=num_layers,\n",
    "                                                mlp_size=mlp_size\n",
    "                                                )\n",
    "        \n",
    "        self.temporal_encoder=TransformerEncoder(d_model=d_model,\n",
    "                                                num_heads=num_heads,\n",
    "                                                num_layers=num_layers,\n",
    "                                                mlp_size=mlp_size)\n",
    "        \n",
    "        self.mlp_head=nn.Sequential(\n",
    "            nn.LayerNorm(normalized_shape=d_model),\n",
    "            nn.Linear(in_features=d_model,out_features=num_classes)\n",
    "        )\n",
    "\n",
    "    \n",
    "    def forward(self,x:torch.tensor):\n",
    "        #print(x.shape)\n",
    "\n",
    "        x=self.patch_embedding(x)\n",
    "\n",
    "        bs,frames,_,_=x.shape\n",
    "\n",
    "        #print(f\"Shape after Patch Embedding: {x.shape}\")\n",
    "\n",
    "        spatial_token=self.spatial_cls_token.expand(bs,frames,-1,-1)\n",
    "\n",
    "        #print(f\"New dimension of the spatial class token : {spatial_token.shape}\")\n",
    "\n",
    "        x=torch.cat([spatial_token,x],dim=2)\n",
    "\n",
    "        #print(f\"Shape of X after the concatenation of the spatial token : {x.shape}\")\n",
    "\n",
    "        spatial_positional_embedding=self.spatial_pos_embedding.expand(bs,frames,-1,-1)\n",
    "\n",
    "        #print(f\"New dimension of the spatial positional embedding: {spatial_positional_embedding.shape}\")\n",
    "\n",
    "        x=x + spatial_positional_embedding\n",
    "\n",
    "        x=x.flatten(0,1) # (bs*frames,n.d_model)\n",
    "\n",
    "        #print(f\"Dimension of the X after adding the positional embeddings: {x.shape}\")\n",
    "\n",
    "        x=self.spatial_encoder(x)\n",
    "\n",
    "        _,_,d_emb=x.shape\n",
    "\n",
    "        x=x.view(bs,frames,-1,d_emb)\n",
    "\n",
    "        #print(f\"Shape after the spatial encoder : {x.shape}\")\n",
    "\n",
    "        x=x[:,:,0]\n",
    "\n",
    "        #print(f\"Only the cls tokens: {x.shape}\")\n",
    "\n",
    "        temporal_token=self.temporal_cls_token.expand(bs,-1,-1)\n",
    "        #temporal_token=self.temporal_cls_token\n",
    "\n",
    "        #print(f\"New shape of the temporal token: {temporal_token.shape}\")\n",
    "\n",
    "        x=torch.concat([temporal_token,x],dim=1)\n",
    "\n",
    "        #print(f\"Shape after adding the temporal token: {x.shape}\")\n",
    "\n",
    "        temporal_positional_embedding=self.temporal_cls_token.expand(bs,-1,-1)\n",
    "\n",
    "        x=x+temporal_positional_embedding\n",
    "\n",
    "        x=self.temporal_encoder(x)\n",
    "\n",
    "        #print(f\"Shape after the temporal encoder: {x.shape}\")\n",
    "\n",
    "        final_cls_token=x[:,0]\n",
    "\n",
    "        #print(f\"Shape of the final token: {final_cls_token.shape}\")\n",
    "\n",
    "\n",
    "        return self.mlp_head(final_cls_token)"
   ]
  },
  {
   "cell_type": "markdown",
   "metadata": {},
   "source": [
    "## Training and Testing"
   ]
  },
  {
   "cell_type": "markdown",
   "metadata": {},
   "source": [
    "### Training step"
   ]
  },
  {
   "cell_type": "code",
   "execution_count": 10,
   "metadata": {},
   "outputs": [],
   "source": [
    "def train_step(model:torch.nn.Module,\n",
    "            dataloader:torch.utils.data.dataloader,\n",
    "            loss_fn:torch.nn.Module,\n",
    "            optimizer:torch.optim.Optimizer,\n",
    "            device):\n",
    "\n",
    "    model.train()\n",
    "\n",
    "    train_loss,train_acc=0,0\n",
    "\n",
    "    for batch, (X,y) in enumerate(dataloader):\n",
    "        \n",
    "        X,y=X.to(device),y.to(device)\n",
    "\n",
    "        y_preds=model(X)\n",
    "\n",
    "        #print(f\"Dimension of the output of the model: {y_preds.shape} | Dimension of the label: {y.shape}\")\n",
    "\n",
    "        loss=loss_fn(y_preds,y)\n",
    "\n",
    "        train_loss+=loss.item()\n",
    "\n",
    "        optimizer.zero_grad()\n",
    "\n",
    "        loss.backward()\n",
    "\n",
    "        optimizer.step()\n",
    "\n",
    "        y_pred_class=torch.argmax(torch.softmax(y_preds,dim=1),dim=1)\n",
    "\n",
    "        train_acc+= (y_pred_class == y).sum().item() / len(y_preds)\n",
    "\n",
    "    train_loss= train_loss/len(dataloader)\n",
    "    \n",
    "    train_acc=train_acc / len(dataloader)\n",
    "\n",
    "    return train_loss,train_acc"
   ]
  },
  {
   "cell_type": "markdown",
   "metadata": {},
   "source": [
    "### Testing step"
   ]
  },
  {
   "cell_type": "code",
   "execution_count": 11,
   "metadata": {},
   "outputs": [],
   "source": [
    "def test_step(model:torch.nn.Module,\n",
    "            dataloader:torch.utils.data.dataloader,\n",
    "            loss_fn:torch.nn.Module,\n",
    "            device):\n",
    "\n",
    "    model.eval()\n",
    "\n",
    "    test_loss,test_acc=0,0\n",
    "\n",
    "    y_preds=[]\n",
    "\n",
    "    with torch.inference_mode():\n",
    "\n",
    "        for batch, (X,y) in enumerate(dataloader):\n",
    "\n",
    "            X,y=X.to(device),y.to(device)\n",
    "\n",
    "            test_preds_logits=model(X)\n",
    "\n",
    "            loss = loss_fn(test_preds_logits,y)\n",
    "\n",
    "            test_loss+=loss.item()\n",
    "\n",
    "            test_preds_labels=torch.argmax(torch.softmax(test_preds_logits,dim=1),dim=1)\n",
    "\n",
    "            y_preds.extend(test_preds_labels.cpu().numpy())\n",
    "            \n",
    "            test_acc+= (test_preds_labels==y).sum().item() / len(test_preds_labels)\n",
    "\n",
    "    test_loss=test_loss / len(dataloader)\n",
    "    \n",
    "    test_acc=test_acc / len(dataloader)\n",
    "\n",
    "    return test_loss,test_acc"
   ]
  },
  {
   "cell_type": "markdown",
   "metadata": {},
   "source": [
    "### Train function"
   ]
  },
  {
   "cell_type": "code",
   "execution_count": 12,
   "metadata": {},
   "outputs": [],
   "source": [
    "def train_model(model:torch.nn.Module,\n",
    "                train_dataloader:torch.utils.data.dataloader,\n",
    "                test_dataloader:torch.utils.data.dataloader,\n",
    "                optimizer:torch.optim.Optimizer,\n",
    "                loss_fn:torch.nn.Module,\n",
    "                epochs,\n",
    "                device,):\n",
    "        \n",
    "        results={\"train_loss\":[],\n",
    "                \"train_acc\":[],\n",
    "                \"test_loss\":[],\n",
    "                \"test_acc\":[]}\n",
    "        \n",
    "        for epoch in tqdm(range(epochs)):\n",
    "\n",
    "                train_loss,train_acc=train_step(model=model,\n",
    "                                                dataloader=train_dataloader,\n",
    "                                                loss_fn=loss_fn,\n",
    "                                                optimizer=optimizer,\n",
    "                                                device=device)\n",
    "\n",
    "                test_loss,test_acc=test_step(model=model,\n",
    "                                        dataloader=test_dataloader,\n",
    "                                        loss_fn=loss_fn,\n",
    "                                        device=device)\n",
    "\n",
    "                print(f\"Epoch: {epoch} | Train loss:{(train_loss):.7f} | Train acc:{(train_acc*100):.2f}% | Test loss : {(test_loss):.7f} | Test acc:{(test_acc*100):.2f}%\")\n",
    "                \n",
    "                results[\"train_loss\"].append(train_loss)\n",
    "                results[\"train_acc\"].append(train_acc)\n",
    "                results[\"test_loss\"].append(test_loss)\n",
    "                results[\"test_acc\"].append(test_acc)\n",
    "\n",
    "        return results"
   ]
  },
  {
   "cell_type": "markdown",
   "metadata": {},
   "source": [
    "## Custom Dataset"
   ]
  },
  {
   "cell_type": "code",
   "execution_count": 13,
   "metadata": {},
   "outputs": [
    {
     "data": {
      "text/plain": [
       "['actividad_normal', 'dejar', 'recoger']"
      ]
     },
     "execution_count": 13,
     "metadata": {},
     "output_type": "execute_result"
    }
   ],
   "source": [
    "root=os.getcwd()\n",
    "class_names=os.listdir(os.path.join(root,\"oficial_db\"))\n",
    "class_names"
   ]
  },
  {
   "cell_type": "code",
   "execution_count": 14,
   "metadata": {},
   "outputs": [],
   "source": [
    "from typing import Dict,Tuple,List\n",
    "\n",
    "def find_classes(directory:str) -> Tuple[List[str], Dict[str,int]]:\n",
    "    \"\"\"\n",
    "    Finds the class folders names in a target directory.\n",
    "    \"\"\"\n",
    "    #1. Get the class names by scanning the target directory\n",
    "    classes=sorted([entry.name for entry in list(os.scandir(directory)) if entry.is_dir()])\n",
    "\n",
    "    #2. Raise an error if class names could not be found\n",
    "    if not classes:\n",
    "        raise FileNotFoundError(f\"Couldn't find any classes in {directory} ... please check file structure.\")\n",
    "\n",
    "    #3. Create a dictionary of index labels (computers prefer numbers rather than strings as labels)\n",
    "    class_to_idx={class_name: i for i,class_name in enumerate(class_names)}\n",
    "    return classes,class_to_idx"
   ]
  },
  {
   "cell_type": "markdown",
   "metadata": {},
   "source": [
    "### VideoDataset"
   ]
  },
  {
   "cell_type": "code",
   "execution_count": 15,
   "metadata": {},
   "outputs": [],
   "source": [
    "class VideoDataset(Dataset):\n",
    "    def __init__(self,targ_dir,transform=None):\n",
    "        super().__init__()\n",
    "        self.targ_dir=targ_dir\n",
    "\n",
    "        self.paths=list(pathlib.Path(targ_dir).glob(\"*/*\"))\n",
    "\n",
    "        self.transform=transform\n",
    "\n",
    "        self.classes,self.class_to_idex=find_classes(targ_dir)\n",
    "\n",
    "        self.targets = [self.class_to_idex[path.parent.name] for path in self.paths]\n",
    "\n",
    "    def __len__(self):\n",
    "        return len(self.paths)\n",
    "\n",
    "    def __getitem__(self,index):\n",
    "        \n",
    "        video_path=self.paths[index]\n",
    "\n",
    "        class_name=video_path.parent.name\n",
    "        class_idx=self.class_to_idex[class_name]\n",
    "        \n",
    "        frames_ordenados=sorted(os.listdir(video_path), key=lambda x: int(re.findall(r'\\d+', x)[0]))\n",
    "\n",
    "        frames=[]\n",
    "        for frame in frames_ordenados:\n",
    "            frame_path=os.path.join(video_path,frame)\n",
    "            image=cv2.imread(frame_path)\n",
    "            if self.transform:\n",
    "                image=self.transform(image)\n",
    "                frames.append(image)\n",
    "\n",
    "        video_tensor=torch.stack(frames)\n",
    "\n",
    "        return video_tensor,class_idx"
   ]
  },
  {
   "cell_type": "markdown",
   "metadata": {},
   "source": [
    "## HyperParameters"
   ]
  },
  {
   "cell_type": "code",
   "execution_count": 17,
   "metadata": {},
   "outputs": [],
   "source": [
    "class Hyper_Parameters(Enum):\n",
    "    BATCH_SIZE=124 \n",
    "    LR=0.0001 \n",
    "    EPOCHS=50\n",
    "    EMBEDDING_DIM=1024\n",
    "    NUM_HEADS=8 \n",
    "    NUM_CLASSES=3\n",
    "    NUM_FRAMES=10\n",
    "    PIXELES=64"
   ]
  },
  {
   "cell_type": "markdown",
   "metadata": {},
   "source": [
    "## Transformation of videos"
   ]
  },
  {
   "cell_type": "code",
   "execution_count": 18,
   "metadata": {},
   "outputs": [],
   "source": [
    "transform_videos=transforms.Compose([\n",
    "    transforms.ToPILImage(),\n",
    "    transforms.ToTensor(),\n",
    "])"
   ]
  },
  {
   "cell_type": "markdown",
   "metadata": {},
   "source": [
    "## Data Loading"
   ]
  },
  {
   "cell_type": "code",
   "execution_count": 19,
   "metadata": {},
   "outputs": [],
   "source": [
    "oficial_path=os.path.join(root,\"oficial_set\")\n",
    "\n",
    "train_path=os.path.join(oficial_path,\"train\")\n",
    "\n",
    "test_path=os.path.join(oficial_path,\"test\")"
   ]
  },
  {
   "cell_type": "code",
   "execution_count": 20,
   "metadata": {},
   "outputs": [],
   "source": [
    "train_dataset=VideoDataset(targ_dir=train_path,\n",
    "                        transform=transform_videos)\n",
    "\n",
    "test_dataset=VideoDataset(targ_dir=test_path,\n",
    "                        transform=transform_videos)\n",
    "\n",
    "train_dataloader=DataLoader(dataset=train_dataset,\n",
    "                        batch_size=Hyper_Parameters.BATCH_SIZE.value,\n",
    "                        shuffle=True)\n",
    "\n",
    "test_dataloader=DataLoader(dataset=test_dataset,\n",
    "                        batch_size=Hyper_Parameters.BATCH_SIZE.value,\n",
    "                        shuffle=False)"
   ]
  },
  {
   "cell_type": "markdown",
   "metadata": {},
   "source": [
    "## Training Process"
   ]
  },
  {
   "cell_type": "code",
   "execution_count": 21,
   "metadata": {},
   "outputs": [],
   "source": [
    "# video_tensor_sample=torch.randn((32,20,3,128,128)) # bs, frames, channels, width , height\n",
    "# vivit=ViViTFactorized(img_size=128,num_frames=20)\n",
    "# vivit(video_tensor_sample).shape"
   ]
  },
  {
   "cell_type": "code",
   "execution_count": 22,
   "metadata": {},
   "outputs": [
    {
     "name": "stderr",
     "output_type": "stream",
     "text": [
      "c:\\Proyectos\\PAPER\\venv\\lib\\site-packages\\torch\\nn\\modules\\transformer.py:385: UserWarning: enable_nested_tensor is True, but self.use_nested_tensor is False because encoder_layer.norm_first was True\n",
      "  warnings.warn(\n",
      "  2%|▏         | 1/50 [00:23<19:07, 23.42s/it]"
     ]
    },
    {
     "name": "stdout",
     "output_type": "stream",
     "text": [
      "Epoch: 0 | Train loss:1.5875572 | Train acc:32.15% | Test loss : 1.0989507 | Test acc:32.66%\n"
     ]
    },
    {
     "name": "stderr",
     "output_type": "stream",
     "text": [
      "  4%|▍         | 2/50 [00:38<14:50, 18.55s/it]"
     ]
    },
    {
     "name": "stdout",
     "output_type": "stream",
     "text": [
      "Epoch: 1 | Train loss:1.1146036 | Train acc:32.17% | Test loss : 1.1026682 | Test acc:32.66%\n"
     ]
    },
    {
     "name": "stderr",
     "output_type": "stream",
     "text": [
      "  6%|▌         | 3/50 [00:54<13:32, 17.28s/it]"
     ]
    },
    {
     "name": "stdout",
     "output_type": "stream",
     "text": [
      "Epoch: 2 | Train loss:1.1068382 | Train acc:30.56% | Test loss : 1.1052388 | Test acc:32.66%\n"
     ]
    },
    {
     "name": "stderr",
     "output_type": "stream",
     "text": [
      "  8%|▊         | 4/50 [01:09<12:45, 16.64s/it]"
     ]
    },
    {
     "name": "stdout",
     "output_type": "stream",
     "text": [
      "Epoch: 3 | Train loss:1.1053202 | Train acc:32.57% | Test loss : 1.1062688 | Test acc:32.66%\n"
     ]
    },
    {
     "name": "stderr",
     "output_type": "stream",
     "text": [
      " 10%|█         | 5/50 [01:25<12:09, 16.22s/it]"
     ]
    },
    {
     "name": "stdout",
     "output_type": "stream",
     "text": [
      "Epoch: 4 | Train loss:1.1068894 | Train acc:31.57% | Test loss : 1.1121423 | Test acc:32.66%\n"
     ]
    },
    {
     "name": "stderr",
     "output_type": "stream",
     "text": [
      " 12%|█▏        | 6/50 [01:40<11:42, 15.96s/it]"
     ]
    },
    {
     "name": "stdout",
     "output_type": "stream",
     "text": [
      "Epoch: 5 | Train loss:1.1202063 | Train acc:31.59% | Test loss : 1.1092751 | Test acc:32.66%\n"
     ]
    },
    {
     "name": "stderr",
     "output_type": "stream",
     "text": [
      " 14%|█▍        | 7/50 [01:56<11:19, 15.80s/it]"
     ]
    },
    {
     "name": "stdout",
     "output_type": "stream",
     "text": [
      "Epoch: 6 | Train loss:1.1035140 | Train acc:33.39% | Test loss : 1.1008654 | Test acc:32.66%\n"
     ]
    },
    {
     "name": "stderr",
     "output_type": "stream",
     "text": [
      " 16%|█▌        | 8/50 [02:12<11:01, 15.76s/it]"
     ]
    },
    {
     "name": "stdout",
     "output_type": "stream",
     "text": [
      "Epoch: 7 | Train loss:1.1078670 | Train acc:32.98% | Test loss : 1.0986831 | Test acc:32.66%\n"
     ]
    },
    {
     "name": "stderr",
     "output_type": "stream",
     "text": [
      " 18%|█▊        | 9/50 [02:32<11:49, 17.31s/it]"
     ]
    },
    {
     "name": "stdout",
     "output_type": "stream",
     "text": [
      "Epoch: 8 | Train loss:1.1042921 | Train acc:33.08% | Test loss : 1.1088855 | Test acc:34.68%\n"
     ]
    },
    {
     "name": "stderr",
     "output_type": "stream",
     "text": [
      " 20%|██        | 10/50 [02:48<11:09, 16.74s/it]"
     ]
    },
    {
     "name": "stdout",
     "output_type": "stream",
     "text": [
      "Epoch: 9 | Train loss:1.1099942 | Train acc:32.93% | Test loss : 1.0979713 | Test acc:34.68%\n"
     ]
    },
    {
     "name": "stderr",
     "output_type": "stream",
     "text": [
      " 22%|██▏       | 11/50 [03:03<10:36, 16.33s/it]"
     ]
    },
    {
     "name": "stdout",
     "output_type": "stream",
     "text": [
      "Epoch: 10 | Train loss:1.1081229 | Train acc:32.63% | Test loss : 1.1092866 | Test acc:32.66%\n"
     ]
    },
    {
     "name": "stderr",
     "output_type": "stream",
     "text": [
      " 24%|██▍       | 12/50 [03:19<10:09, 16.04s/it]"
     ]
    },
    {
     "name": "stdout",
     "output_type": "stream",
     "text": [
      "Epoch: 11 | Train loss:1.1141059 | Train acc:32.94% | Test loss : 1.0990277 | Test acc:34.68%\n"
     ]
    },
    {
     "name": "stderr",
     "output_type": "stream",
     "text": [
      " 26%|██▌       | 13/50 [03:37<10:24, 16.88s/it]"
     ]
    },
    {
     "name": "stdout",
     "output_type": "stream",
     "text": [
      "Epoch: 12 | Train loss:1.1091658 | Train acc:32.45% | Test loss : 1.0997317 | Test acc:32.66%\n"
     ]
    },
    {
     "name": "stderr",
     "output_type": "stream",
     "text": [
      " 26%|██▌       | 13/50 [03:41<10:31, 17.06s/it]\n"
     ]
    },
    {
     "ename": "KeyboardInterrupt",
     "evalue": "",
     "output_type": "error",
     "traceback": [
      "\u001b[1;31m---------------------------------------------------------------------------\u001b[0m",
      "\u001b[1;31mKeyboardInterrupt\u001b[0m                         Traceback (most recent call last)",
      "Cell \u001b[1;32mIn[22], line 6\u001b[0m\n\u001b[0;32m      3\u001b[0m loss_fn\u001b[38;5;241m=\u001b[39mnn\u001b[38;5;241m.\u001b[39mCrossEntropyLoss()\n\u001b[0;32m      4\u001b[0m optimizer\u001b[38;5;241m=\u001b[39mtorch\u001b[38;5;241m.\u001b[39moptim\u001b[38;5;241m.\u001b[39mAdam(params\u001b[38;5;241m=\u001b[39mmodel_prueba\u001b[38;5;241m.\u001b[39mparameters(),\n\u001b[0;32m      5\u001b[0m                         lr\u001b[38;5;241m=\u001b[39mHyper_Parameters\u001b[38;5;241m.\u001b[39mLR\u001b[38;5;241m.\u001b[39mvalue)\n\u001b[1;32m----> 6\u001b[0m model_results\u001b[38;5;241m=\u001b[39m\u001b[43mtrain_model\u001b[49m\u001b[43m(\u001b[49m\u001b[43mmodel\u001b[49m\u001b[38;5;241;43m=\u001b[39;49m\u001b[43mmodel_prueba\u001b[49m\u001b[43m,\u001b[49m\n\u001b[0;32m      7\u001b[0m \u001b[43m                        \u001b[49m\u001b[43mtrain_dataloader\u001b[49m\u001b[38;5;241;43m=\u001b[39;49m\u001b[43mtrain_dataloader\u001b[49m\u001b[43m,\u001b[49m\n\u001b[0;32m      8\u001b[0m \u001b[43m                        \u001b[49m\u001b[43mtest_dataloader\u001b[49m\u001b[38;5;241;43m=\u001b[39;49m\u001b[43mtest_dataloader\u001b[49m\u001b[43m,\u001b[49m\n\u001b[0;32m      9\u001b[0m \u001b[43m                        \u001b[49m\u001b[43moptimizer\u001b[49m\u001b[38;5;241;43m=\u001b[39;49m\u001b[43moptimizer\u001b[49m\u001b[43m,\u001b[49m\n\u001b[0;32m     10\u001b[0m \u001b[43m                        \u001b[49m\u001b[43mloss_fn\u001b[49m\u001b[38;5;241;43m=\u001b[39;49m\u001b[43mloss_fn\u001b[49m\u001b[43m,\u001b[49m\n\u001b[0;32m     11\u001b[0m \u001b[43m                        \u001b[49m\u001b[43mepochs\u001b[49m\u001b[38;5;241;43m=\u001b[39;49m\u001b[43mHyper_Parameters\u001b[49m\u001b[38;5;241;43m.\u001b[39;49m\u001b[43mEPOCHS\u001b[49m\u001b[38;5;241;43m.\u001b[39;49m\u001b[43mvalue\u001b[49m\u001b[43m,\u001b[49m\n\u001b[0;32m     12\u001b[0m \u001b[43m                        \u001b[49m\u001b[43mdevice\u001b[49m\u001b[38;5;241;43m=\u001b[39;49m\u001b[43mdevice\u001b[49m\u001b[43m)\u001b[49m\n",
      "Cell \u001b[1;32mIn[12], line 16\u001b[0m, in \u001b[0;36mtrain_model\u001b[1;34m(model, train_dataloader, test_dataloader, optimizer, loss_fn, epochs, device)\u001b[0m\n\u001b[0;32m      9\u001b[0m results\u001b[38;5;241m=\u001b[39m{\u001b[38;5;124m\"\u001b[39m\u001b[38;5;124mtrain_loss\u001b[39m\u001b[38;5;124m\"\u001b[39m:[],\n\u001b[0;32m     10\u001b[0m         \u001b[38;5;124m\"\u001b[39m\u001b[38;5;124mtrain_acc\u001b[39m\u001b[38;5;124m\"\u001b[39m:[],\n\u001b[0;32m     11\u001b[0m         \u001b[38;5;124m\"\u001b[39m\u001b[38;5;124mtest_loss\u001b[39m\u001b[38;5;124m\"\u001b[39m:[],\n\u001b[0;32m     12\u001b[0m         \u001b[38;5;124m\"\u001b[39m\u001b[38;5;124mtest_acc\u001b[39m\u001b[38;5;124m\"\u001b[39m:[]}\n\u001b[0;32m     14\u001b[0m \u001b[38;5;28;01mfor\u001b[39;00m epoch \u001b[38;5;129;01min\u001b[39;00m tqdm(\u001b[38;5;28mrange\u001b[39m(epochs)):\n\u001b[1;32m---> 16\u001b[0m         train_loss,train_acc\u001b[38;5;241m=\u001b[39m\u001b[43mtrain_step\u001b[49m\u001b[43m(\u001b[49m\u001b[43mmodel\u001b[49m\u001b[38;5;241;43m=\u001b[39;49m\u001b[43mmodel\u001b[49m\u001b[43m,\u001b[49m\n\u001b[0;32m     17\u001b[0m \u001b[43m                                        \u001b[49m\u001b[43mdataloader\u001b[49m\u001b[38;5;241;43m=\u001b[39;49m\u001b[43mtrain_dataloader\u001b[49m\u001b[43m,\u001b[49m\n\u001b[0;32m     18\u001b[0m \u001b[43m                                        \u001b[49m\u001b[43mloss_fn\u001b[49m\u001b[38;5;241;43m=\u001b[39;49m\u001b[43mloss_fn\u001b[49m\u001b[43m,\u001b[49m\n\u001b[0;32m     19\u001b[0m \u001b[43m                                        \u001b[49m\u001b[43moptimizer\u001b[49m\u001b[38;5;241;43m=\u001b[39;49m\u001b[43moptimizer\u001b[49m\u001b[43m,\u001b[49m\n\u001b[0;32m     20\u001b[0m \u001b[43m                                        \u001b[49m\u001b[43mdevice\u001b[49m\u001b[38;5;241;43m=\u001b[39;49m\u001b[43mdevice\u001b[49m\u001b[43m)\u001b[49m\n\u001b[0;32m     22\u001b[0m         test_loss,test_acc\u001b[38;5;241m=\u001b[39mtest_step(model\u001b[38;5;241m=\u001b[39mmodel,\n\u001b[0;32m     23\u001b[0m                                 dataloader\u001b[38;5;241m=\u001b[39mtest_dataloader,\n\u001b[0;32m     24\u001b[0m                                 loss_fn\u001b[38;5;241m=\u001b[39mloss_fn,\n\u001b[0;32m     25\u001b[0m                                 device\u001b[38;5;241m=\u001b[39mdevice)\n\u001b[0;32m     27\u001b[0m         \u001b[38;5;28mprint\u001b[39m(\u001b[38;5;124mf\u001b[39m\u001b[38;5;124m\"\u001b[39m\u001b[38;5;124mEpoch: \u001b[39m\u001b[38;5;132;01m{\u001b[39;00mepoch\u001b[38;5;132;01m}\u001b[39;00m\u001b[38;5;124m | Train loss:\u001b[39m\u001b[38;5;132;01m{\u001b[39;00m(train_loss)\u001b[38;5;132;01m:\u001b[39;00m\u001b[38;5;124m.7f\u001b[39m\u001b[38;5;132;01m}\u001b[39;00m\u001b[38;5;124m | Train acc:\u001b[39m\u001b[38;5;132;01m{\u001b[39;00m(train_acc\u001b[38;5;241m*\u001b[39m\u001b[38;5;241m100\u001b[39m)\u001b[38;5;132;01m:\u001b[39;00m\u001b[38;5;124m.2f\u001b[39m\u001b[38;5;132;01m}\u001b[39;00m\u001b[38;5;124m% | Test loss : \u001b[39m\u001b[38;5;132;01m{\u001b[39;00m(test_loss)\u001b[38;5;132;01m:\u001b[39;00m\u001b[38;5;124m.7f\u001b[39m\u001b[38;5;132;01m}\u001b[39;00m\u001b[38;5;124m | Test acc:\u001b[39m\u001b[38;5;132;01m{\u001b[39;00m(test_acc\u001b[38;5;241m*\u001b[39m\u001b[38;5;241m100\u001b[39m)\u001b[38;5;132;01m:\u001b[39;00m\u001b[38;5;124m.2f\u001b[39m\u001b[38;5;132;01m}\u001b[39;00m\u001b[38;5;124m%\u001b[39m\u001b[38;5;124m\"\u001b[39m)\n",
      "Cell \u001b[1;32mIn[10], line 31\u001b[0m, in \u001b[0;36mtrain_step\u001b[1;34m(model, dataloader, loss_fn, optimizer, device)\u001b[0m\n\u001b[0;32m     27\u001b[0m     optimizer\u001b[38;5;241m.\u001b[39mstep()\n\u001b[0;32m     29\u001b[0m     y_pred_class\u001b[38;5;241m=\u001b[39mtorch\u001b[38;5;241m.\u001b[39margmax(torch\u001b[38;5;241m.\u001b[39msoftmax(y_preds,dim\u001b[38;5;241m=\u001b[39m\u001b[38;5;241m1\u001b[39m),dim\u001b[38;5;241m=\u001b[39m\u001b[38;5;241m1\u001b[39m)\n\u001b[1;32m---> 31\u001b[0m     train_acc\u001b[38;5;241m+\u001b[39m\u001b[38;5;241m=\u001b[39m \u001b[43m(\u001b[49m\u001b[43my_pred_class\u001b[49m\u001b[43m \u001b[49m\u001b[38;5;241;43m==\u001b[39;49m\u001b[43m \u001b[49m\u001b[43my\u001b[49m\u001b[43m)\u001b[49m\u001b[38;5;241;43m.\u001b[39;49m\u001b[43msum\u001b[49m\u001b[43m(\u001b[49m\u001b[43m)\u001b[49m\u001b[38;5;241;43m.\u001b[39;49m\u001b[43mitem\u001b[49m\u001b[43m(\u001b[49m\u001b[43m)\u001b[49m \u001b[38;5;241m/\u001b[39m \u001b[38;5;28mlen\u001b[39m(y_preds)\n\u001b[0;32m     33\u001b[0m train_loss\u001b[38;5;241m=\u001b[39m train_loss\u001b[38;5;241m/\u001b[39m\u001b[38;5;28mlen\u001b[39m(dataloader)\n\u001b[0;32m     35\u001b[0m train_acc\u001b[38;5;241m=\u001b[39mtrain_acc \u001b[38;5;241m/\u001b[39m \u001b[38;5;28mlen\u001b[39m(dataloader)\n",
      "\u001b[1;31mKeyboardInterrupt\u001b[0m: "
     ]
    }
   ],
   "source": [
    "model_prueba=None\n",
    "model_prueba=ViViTFactorized(num_frames=Hyper_Parameters.NUM_FRAMES.value,img_size=Hyper_Parameters.PIXELES.value).to(device)\n",
    "loss_fn=nn.CrossEntropyLoss()\n",
    "optimizer=torch.optim.Adam(params=model_prueba.parameters(),\n",
    "                        lr=Hyper_Parameters.LR.value)\n",
    "model_results=train_model(model=model_prueba,\n",
    "                        train_dataloader=train_dataloader,\n",
    "                        test_dataloader=test_dataloader,\n",
    "                        optimizer=optimizer,\n",
    "                        loss_fn=loss_fn,\n",
    "                        epochs=Hyper_Parameters.EPOCHS.value,\n",
    "                        device=device)"
   ]
  },
  {
   "cell_type": "markdown",
   "metadata": {},
   "source": [
    "## Plotting the results"
   ]
  },
  {
   "cell_type": "code",
   "execution_count": 22,
   "metadata": {},
   "outputs": [],
   "source": [
    "def plot_loss_curves(results:Dict[str,List[float]]):\n",
    "    \"\"\"\n",
    "    Plots training curves of a results dictionary.\n",
    "    \"\"\"\n",
    "    #Get the loss values of the results dictionary (training and test)\n",
    "    loss=results[\"train_loss\"]\n",
    "    test_loss=results[\"test_loss\"]\n",
    "\n",
    "    #Get the accuracy values of the results dictionary (training and test)\n",
    "    acc=results[\"train_acc\"]\n",
    "    test_acc=results[\"test_acc\"]\n",
    "\n",
    "    #Figure out how many epochs there where\n",
    "    epochs=range(len(results[\"train_loss\"]))\n",
    "\n",
    "    plt.figure(figsize=(15,7))\n",
    "\n",
    "    #Plot the loss\n",
    "    plt.subplot(1,2,1)\n",
    "    plt.plot(epochs,loss,label='train_loss')\n",
    "    plt.plot(epochs,test_loss,label='test_loss')\n",
    "    plt.title(\"Loss\")\n",
    "    plt.xlabel(\"Epochs\")\n",
    "    plt.legend()\n",
    "\n",
    "    #Plot the accuracy\n",
    "    plt.subplot(1,2,2)\n",
    "    plt.plot(epochs,acc,label='train_acc')\n",
    "    plt.plot(epochs,test_acc,label='test_acc')\n",
    "    plt.title(\"Accuracy\")\n",
    "    plt.xlabel(\"Epochs\")\n",
    "    plt.legend()"
   ]
  },
  {
   "cell_type": "code",
   "execution_count": 23,
   "metadata": {},
   "outputs": [
    {
     "data": {
      "image/png": "[encoded data removed]",
      "text/plain": [
       "<Figure size 1500x700 with 2 Axes>"
      ]
     },
     "metadata": {},
     "output_type": "display_data"
    }
   ],
   "source": [
    "plot_loss_curves(results=model_results)"
   ]
  },
  {
   "cell_type": "markdown",
   "metadata": {},
   "source": [
    "## Confussion Matrix"
   ]
  },
  {
   "cell_type": "code",
   "execution_count": 24,
   "metadata": {},
   "outputs": [
    {
     "name": "stderr",
     "output_type": "stream",
     "text": [
      "Making predictions: 100%|██████████| 8/8 [00:03<00:00,  2.18it/s]"
     ]
    },
    {
     "name": "stdout",
     "output_type": "stream",
     "text": [
      "Accuracy:  0.9919354838709676\n",
      "Predictions:  tensor([0, 0, 0, 0, 0, 0, 0, 0, 0, 0, 0, 0, 0, 0, 0, 0, 0, 0, 0, 0, 0, 0, 0, 0,\n",
      "        0, 0, 0, 0, 0, 0, 0, 0, 0, 0, 0, 0, 0, 0, 0, 0, 0, 0, 0, 0, 0, 0, 0, 0,\n",
      "        0, 0, 0, 0, 0, 0, 0, 0, 0, 0, 0, 0, 0, 0, 0, 0, 0, 0, 0, 0, 0, 0, 0, 0,\n",
      "        0, 0, 0, 0, 0, 0, 0, 0, 0, 0, 0, 0, 0, 0, 0, 0, 0, 0, 0, 0, 0, 0, 0, 0,\n",
      "        0, 0, 0, 0, 0, 0, 0, 0, 0, 0, 0, 0, 0, 0, 0, 0, 0, 0, 0, 0, 0, 0, 0, 0,\n",
      "        0, 0, 0, 0, 0, 0, 0, 0, 0, 0, 0, 0, 0, 0, 0, 0, 0, 0, 0, 0, 0, 0, 0, 0,\n",
      "        0, 0, 0, 0, 0, 0, 0, 0, 0, 0, 0, 0, 0, 0, 0, 0, 0, 0, 0, 0, 0, 0, 0, 0,\n",
      "        0, 0, 0, 0, 0, 0, 0, 0, 0, 0, 0, 0, 0, 0, 0, 0, 0, 0, 0, 0, 0, 0, 0, 0,\n",
      "        0, 0, 0, 0, 0, 0, 0, 0, 0, 0, 0, 0, 0, 0, 0, 0, 0, 0, 0, 0, 0, 0, 0, 0,\n",
      "        0, 0, 0, 0, 0, 0, 0, 0, 0, 0, 0, 0, 0, 0, 0, 0, 0, 0, 0, 0, 0, 0, 0, 0,\n",
      "        0, 0, 0, 0, 0, 0, 0, 0, 0, 0, 0, 0, 0, 0, 0, 0, 0, 0, 0, 0, 0, 0, 0, 0,\n",
      "        0, 0, 0, 0, 0, 0, 0, 0, 0, 0, 0, 0, 0, 0, 0, 0, 0, 0, 0, 0, 0, 0, 0, 0,\n",
      "        0, 0, 0, 0, 0, 0, 0, 0, 0, 0, 0, 0, 0, 0, 0, 0, 0, 0, 0, 0, 0, 0, 0, 0,\n",
      "        0, 0, 0, 0, 0, 0, 0, 0, 0, 0, 0, 0, 1, 1, 1, 1, 1, 1, 1, 1, 1, 1, 1, 1,\n",
      "        1, 1, 1, 1, 1, 1, 1, 1, 1, 1, 1, 1, 1, 1, 1, 1, 1, 1, 1, 1, 1, 1, 1, 1,\n",
      "        1, 1, 1, 1, 1, 1, 1, 1, 1, 1, 1, 1, 1, 1, 1, 1, 1, 1, 1, 1, 1, 1, 1, 1,\n",
      "        1, 1, 1, 1, 1, 1, 1, 1, 1, 1, 1, 1, 1, 1, 1, 1, 1, 1, 1, 1, 1, 1, 1, 1,\n",
      "        1, 1, 1, 1, 1, 1, 1, 1, 1, 1, 1, 1, 1, 1, 1, 1, 1, 1, 1, 1, 1, 1, 1, 1,\n",
      "        1, 1, 1, 1, 1, 1, 1, 1, 1, 1, 1, 1, 1, 1, 1, 1, 1, 1, 1, 1, 1, 1, 1, 1,\n",
      "        1, 1, 1, 1, 1, 1, 1, 1, 1, 1, 1, 1, 1, 1, 1, 1, 1, 1, 1, 1, 1, 1, 1, 1,\n",
      "        1, 1, 1, 1, 1, 1, 1, 1, 1, 1, 1, 1, 1, 1, 1, 1, 1, 1, 1, 1, 1, 1, 1, 1,\n",
      "        1, 1, 1, 1, 1, 1, 1, 1, 1, 1, 1, 1, 1, 1, 1, 1, 1, 1, 1, 1, 1, 1, 1, 1,\n",
      "        1, 1, 1, 1, 1, 1, 1, 1, 1, 1, 1, 1, 1, 1, 1, 1, 1, 1, 1, 1, 1, 2, 1, 1,\n",
      "        1, 1, 2, 1, 1, 1, 1, 1, 1, 1, 2, 1, 1, 1, 1, 1, 1, 1, 1, 1, 1, 1, 1, 1,\n",
      "        1, 1, 1, 1, 1, 1, 1, 1, 1, 1, 1, 1, 1, 1, 1, 1, 1, 1, 1, 1, 1, 1, 1, 1,\n",
      "        1, 1, 1, 1, 1, 1, 1, 1, 1, 1, 1, 1, 1, 1, 1, 1, 1, 1, 1, 1, 1, 1, 1, 1,\n",
      "        1, 1, 1, 1, 1, 1, 1, 1, 1, 1, 1, 1, 1, 1, 1, 1, 1, 1, 1, 1, 1, 1, 1, 1,\n",
      "        2, 2, 2, 2, 2, 2, 2, 2, 2, 2, 2, 2, 2, 2, 2, 2, 2, 2, 2, 2, 2, 2, 2, 2,\n",
      "        2, 2, 2, 2, 2, 2, 2, 2, 2, 2, 2, 2, 2, 2, 2, 2, 2, 2, 2, 2, 2, 2, 2, 2,\n",
      "        2, 2, 2, 2, 2, 2, 2, 2, 1, 2, 2, 2, 2, 2, 2, 2, 2, 2, 1, 2, 2, 2, 2, 2,\n",
      "        2, 2, 2, 2, 2, 2, 2, 2, 2, 2, 2, 2, 2, 2, 2, 2, 2, 2, 2, 2, 2, 2, 2, 2,\n",
      "        2, 2, 2, 2, 2, 2, 2, 2, 1, 2, 2, 2, 2, 2, 1, 2, 2, 2, 2, 2, 2, 2, 2, 2,\n",
      "        2, 2, 2, 2, 2, 2, 2, 2, 2, 2, 2, 2, 2, 2, 2, 2, 2, 2, 2, 2, 2, 2, 2, 2,\n",
      "        2, 2, 2, 2, 2, 2, 2, 2, 2, 2, 2, 2, 2, 2, 2, 2, 2, 2, 2, 2, 2, 2, 2, 2,\n",
      "        2, 2, 2, 2, 2, 2, 2, 2, 2, 2, 2, 2, 2, 2, 2, 2, 2, 2, 2, 2, 2, 2, 2, 2,\n",
      "        2, 2, 2, 2, 2, 2, 2, 2, 2, 2, 2, 2, 2, 2, 2, 2, 2, 2, 2, 2, 2, 2, 2, 2,\n",
      "        2, 2, 1, 2, 2, 2, 2, 2, 2, 2, 2, 2, 2, 2, 2, 2, 2, 2, 2, 2, 2, 2, 2, 2,\n",
      "        2, 2, 2, 2, 2, 2, 2, 2, 2, 2, 2, 2, 2, 2, 2, 2, 2, 2, 2, 2, 2, 2, 2, 2,\n",
      "        2, 2, 2, 2, 2, 2, 2, 2, 2, 2, 2, 2, 2, 2, 2, 2, 2, 2, 2, 2, 2, 2, 2, 2,\n",
      "        2, 2, 2, 2, 2, 2, 2, 2, 2, 2, 2, 2, 2, 2, 2, 2, 2, 2, 2, 2, 2, 2, 2, 2,\n",
      "        2, 2, 2, 2, 2, 2, 2, 2, 2, 2, 2, 2])\n"
     ]
    },
    {
     "name": "stderr",
     "output_type": "stream",
     "text": [
      "\n"
     ]
    }
   ],
   "source": [
    "y_preds=[]\n",
    "\n",
    "model_prueba.eval()\n",
    "prediction_acc=0\n",
    "with torch.inference_mode():\n",
    "    for X,y in tqdm(test_dataloader,desc=\"Making predictions\"):\n",
    "        X,y=X.to(device),y.to(device)\n",
    "        y_logits=model_prueba(X)\n",
    "        y_pred=torch.argmax(torch.softmax(y_logits,dim=1),dim=1)\n",
    "        # y_pred=torch.softmax(y_logits,dim=1).argmax(dim=1)\n",
    "        y_preds.append(y_pred.cpu())\n",
    "        prediction_acc+=(y_pred == y).sum().item() / len(y_pred)\n",
    "\n",
    "prediction_acc=prediction_acc/len(test_dataloader)\n",
    "\n",
    "y_pred_tensor=torch.cat(y_preds)\n",
    "\n",
    "print(\"Accuracy: \",prediction_acc)\n",
    "print(\"Predictions: \",y_pred_tensor)"
   ]
  },
  {
   "cell_type": "code",
   "execution_count": 25,
   "metadata": {},
   "outputs": [],
   "source": [
    "from torchmetrics import ConfusionMatrix\n",
    "from mlxtend.plotting import plot_confusion_matrix\n",
    "\n",
    "\n",
    "conf_mat=ConfusionMatrix(num_classes=Hyper_Parameters.NUM_CLASSES.value,task='multiclass')\n",
    "targets_tensor = torch.tensor(test_dataset.targets)\n",
    "confmat_tensor=conf_mat(preds=y_pred_tensor,\n",
    "                    target=targets_tensor) #target == label"
   ]
  },
  {
   "cell_type": "code",
   "execution_count": 26,
   "metadata": {},
   "outputs": [
    {
     "data": {
      "image/png": "[encoded data removed]",
      "text/plain": [
       "<Figure size 1000x700 with 1 Axes>"
      ]
     },
     "metadata": {},
     "output_type": "display_data"
    }
   ],
   "source": [
    "fig,ax=plot_confusion_matrix(conf_mat=confmat_tensor.numpy(),\n",
    "                            class_names=class_names,\n",
    "                            figsize=(10,7))"
   ]
  },
  {
   "cell_type": "markdown",
   "metadata": {},
   "source": [
    "## Codigos de Prueba"
   ]
  },
  {
   "cell_type": "code",
   "execution_count": 46,
   "metadata": {},
   "outputs": [],
   "source": [
    "import re\n",
    "root=os.getcwd()\n",
    "\n",
    "targ_dir=os.path.join(root,\"oficial_set\",\"train\")\n",
    "\n",
    "videos_path=list(pathlib.Path(targ_dir).glob(\"*/*\"))\n",
    "\n",
    "video_path=videos_path[0]\n",
    "\n",
    "frames_ordenados=sorted(os.listdir(video_path), key=lambda x: int(re.findall(r'\\d+', x)[0]))\n",
    "\n",
    "frames=[]\n",
    "for frame in frames_ordenados:\n",
    "    frame_path=os.path.join(video_path,frame)\n",
    "    image=cv2.imread(frame_path)\n",
    "    image=transform_videos(image)\n",
    "    frames.append(image)\n"
   ]
  },
  {
   "cell_type": "markdown",
   "metadata": {},
   "source": [
    "## Descarga de modelos"
   ]
  },
  {
   "cell_type": "code",
   "execution_count": 27,
   "metadata": {},
   "outputs": [
    {
     "data": {
      "text/plain": [
       "WindowsPath('models/video_vision_transformer_200_epochs.pth')"
      ]
     },
     "execution_count": 27,
     "metadata": {},
     "output_type": "execute_result"
    }
   ],
   "source": [
    "from pathlib import Path\n",
    "\n",
    "#Create model directory path\n",
    "MODEL_PATH=Path('models')\n",
    "MODEL_PATH.mkdir(parents=True,\n",
    "                exist_ok=True)\n",
    "#Create model save\n",
    "MODEL_NAME='video_vision_transformer_200_epochs.pth'\n",
    "MODEL_SAVE_PATH=MODEL_PATH/MODEL_NAME\n",
    "\n",
    "MODEL_SAVE_PATH"
   ]
  },
  {
   "cell_type": "code",
   "execution_count": 28,
   "metadata": {},
   "outputs": [
    {
     "name": "stdout",
     "output_type": "stream",
     "text": [
      "Saving model to: models\\video_vision_transformer_200_epochs.pth\n"
     ]
    }
   ],
   "source": [
    "print(f\"Saving model to: {MODEL_SAVE_PATH}\")\n",
    "torch.save(obj=model_prueba.state_dict(),\n",
    "        f=MODEL_SAVE_PATH)"
   ]
  },
  {
   "cell_type": "markdown",
   "metadata": {},
   "source": [
    "## Load model"
   ]
  },
  {
   "cell_type": "code",
   "execution_count": 20,
   "metadata": {},
   "outputs": [
    {
     "name": "stderr",
     "output_type": "stream",
     "text": [
      "c:\\Proyectos\\PAPER\\venv\\lib\\site-packages\\torch\\nn\\modules\\transformer.py:385: UserWarning: enable_nested_tensor is True, but self.use_nested_tensor is False because encoder_layer.norm_first was True\n",
      "  warnings.warn(\n"
     ]
    },
    {
     "data": {
      "text/plain": [
       "ViViTFactorized(\n",
       "  (patch_embedding): TubeletEmbedding(\n",
       "    (patcher): Conv3d(3, 768, kernel_size=(2, 16, 16), stride=(2, 16, 16))\n",
       "    (flatten): Flatten(start_dim=3, end_dim=4)\n",
       "  )\n",
       "  (spatial_encoder): TransformerEncoder(\n",
       "    (transformer_encoder_layer): TransformerEncoderLayer(\n",
       "      (self_attn): MultiheadAttention(\n",
       "        (out_proj): NonDynamicallyQuantizableLinear(in_features=768, out_features=768, bias=True)\n",
       "      )\n",
       "      (linear1): Linear(in_features=768, out_features=3072, bias=True)\n",
       "      (dropout): Dropout(p=0.1, inplace=False)\n",
       "      (linear2): Linear(in_features=3072, out_features=768, bias=True)\n",
       "      (norm1): LayerNorm((768,), eps=1e-05, elementwise_affine=True)\n",
       "      (norm2): LayerNorm((768,), eps=1e-05, elementwise_affine=True)\n",
       "      (dropout1): Dropout(p=0.1, inplace=False)\n",
       "      (dropout2): Dropout(p=0.1, inplace=False)\n",
       "    )\n",
       "    (transformer_encoder): TransformerEncoder(\n",
       "      (layers): ModuleList(\n",
       "        (0-5): 6 x TransformerEncoderLayer(\n",
       "          (self_attn): MultiheadAttention(\n",
       "            (out_proj): NonDynamicallyQuantizableLinear(in_features=768, out_features=768, bias=True)\n",
       "          )\n",
       "          (linear1): Linear(in_features=768, out_features=3072, bias=True)\n",
       "          (dropout): Dropout(p=0.1, inplace=False)\n",
       "          (linear2): Linear(in_features=3072, out_features=768, bias=True)\n",
       "          (norm1): LayerNorm((768,), eps=1e-05, elementwise_affine=True)\n",
       "          (norm2): LayerNorm((768,), eps=1e-05, elementwise_affine=True)\n",
       "          (dropout1): Dropout(p=0.1, inplace=False)\n",
       "          (dropout2): Dropout(p=0.1, inplace=False)\n",
       "        )\n",
       "      )\n",
       "    )\n",
       "  )\n",
       "  (temporal_encoder): TransformerEncoder(\n",
       "    (transformer_encoder_layer): TransformerEncoderLayer(\n",
       "      (self_attn): MultiheadAttention(\n",
       "        (out_proj): NonDynamicallyQuantizableLinear(in_features=768, out_features=768, bias=True)\n",
       "      )\n",
       "      (linear1): Linear(in_features=768, out_features=3072, bias=True)\n",
       "      (dropout): Dropout(p=0.1, inplace=False)\n",
       "      (linear2): Linear(in_features=3072, out_features=768, bias=True)\n",
       "      (norm1): LayerNorm((768,), eps=1e-05, elementwise_affine=True)\n",
       "      (norm2): LayerNorm((768,), eps=1e-05, elementwise_affine=True)\n",
       "      (dropout1): Dropout(p=0.1, inplace=False)\n",
       "      (dropout2): Dropout(p=0.1, inplace=False)\n",
       "    )\n",
       "    (transformer_encoder): TransformerEncoder(\n",
       "      (layers): ModuleList(\n",
       "        (0-5): 6 x TransformerEncoderLayer(\n",
       "          (self_attn): MultiheadAttention(\n",
       "            (out_proj): NonDynamicallyQuantizableLinear(in_features=768, out_features=768, bias=True)\n",
       "          )\n",
       "          (linear1): Linear(in_features=768, out_features=3072, bias=True)\n",
       "          (dropout): Dropout(p=0.1, inplace=False)\n",
       "          (linear2): Linear(in_features=3072, out_features=768, bias=True)\n",
       "          (norm1): LayerNorm((768,), eps=1e-05, elementwise_affine=True)\n",
       "          (norm2): LayerNorm((768,), eps=1e-05, elementwise_affine=True)\n",
       "          (dropout1): Dropout(p=0.1, inplace=False)\n",
       "          (dropout2): Dropout(p=0.1, inplace=False)\n",
       "        )\n",
       "      )\n",
       "    )\n",
       "  )\n",
       "  (mlp_head): Sequential(\n",
       "    (0): LayerNorm((768,), eps=1e-05, elementwise_affine=True)\n",
       "    (1): Linear(in_features=768, out_features=3, bias=True)\n",
       "  )\n",
       ")"
      ]
     },
     "execution_count": 20,
     "metadata": {},
     "output_type": "execute_result"
    }
   ],
   "source": [
    "ViVit_instance=ViViTFactorized(in_channels=3,num_classes=3,num_frames=10,img_size=64)\n",
    "\n",
    "ViVit_instance.load_state_dict(torch.load(f=\"models/video_vision_transformer_200_epochs.pth\"))\n",
    "\n",
    "ViVit_instance.to(device)"
   ]
  },
  {
   "cell_type": "code",
   "execution_count": 23,
   "metadata": {},
   "outputs": [
    {
     "name": "stderr",
     "output_type": "stream",
     "text": [
      "Making predictions: 100%|██████████| 8/8 [00:07<00:00,  1.04it/s]"
     ]
    },
    {
     "name": "stdout",
     "output_type": "stream",
     "text": [
      "Accuracy:  0.9919354838709676\n",
      "Predictions:  tensor([0, 0, 0, 0, 0, 0, 0, 0, 0, 0, 0, 0, 0, 0, 0, 0, 0, 0, 0, 0, 0, 0, 0, 0,\n",
      "        0, 0, 0, 0, 0, 0, 0, 0, 0, 0, 0, 0, 0, 0, 0, 0, 0, 0, 0, 0, 0, 0, 0, 0,\n",
      "        0, 0, 0, 0, 0, 0, 0, 0, 0, 0, 0, 0, 0, 0, 0, 0, 0, 0, 0, 0, 0, 0, 0, 0,\n",
      "        0, 0, 0, 0, 0, 0, 0, 0, 0, 0, 0, 0, 0, 0, 0, 0, 0, 0, 0, 0, 0, 0, 0, 0,\n",
      "        0, 0, 0, 0, 0, 0, 0, 0, 0, 0, 0, 0, 0, 0, 0, 0, 0, 0, 0, 0, 0, 0, 0, 0,\n",
      "        0, 0, 0, 0, 0, 0, 0, 0, 0, 0, 0, 0, 0, 0, 0, 0, 0, 0, 0, 0, 0, 0, 0, 0,\n",
      "        0, 0, 0, 0, 0, 0, 0, 0, 0, 0, 0, 0, 0, 0, 0, 0, 0, 0, 0, 0, 0, 0, 0, 0,\n",
      "        0, 0, 0, 0, 0, 0, 0, 0, 0, 0, 0, 0, 0, 0, 0, 0, 0, 0, 0, 0, 0, 0, 0, 0,\n",
      "        0, 0, 0, 0, 0, 0, 0, 0, 0, 0, 0, 0, 0, 0, 0, 0, 0, 0, 0, 0, 0, 0, 0, 0,\n",
      "        0, 0, 0, 0, 0, 0, 0, 0, 0, 0, 0, 0, 0, 0, 0, 0, 0, 0, 0, 0, 0, 0, 0, 0,\n",
      "        0, 0, 0, 0, 0, 0, 0, 0, 0, 0, 0, 0, 0, 0, 0, 0, 0, 0, 0, 0, 0, 0, 0, 0,\n",
      "        0, 0, 0, 0, 0, 0, 0, 0, 0, 0, 0, 0, 0, 0, 0, 0, 0, 0, 0, 0, 0, 0, 0, 0,\n",
      "        0, 0, 0, 0, 0, 0, 0, 0, 0, 0, 0, 0, 0, 0, 0, 0, 0, 0, 0, 0, 0, 0, 0, 0,\n",
      "        0, 0, 0, 0, 0, 0, 0, 0, 0, 0, 0, 0, 1, 1, 1, 1, 1, 1, 1, 1, 1, 1, 1, 1,\n",
      "        1, 1, 1, 1, 1, 1, 1, 1, 1, 1, 1, 1, 1, 1, 1, 1, 1, 1, 1, 1, 1, 1, 1, 1,\n",
      "        1, 1, 1, 1, 1, 1, 1, 1, 1, 1, 1, 1, 1, 1, 1, 1, 1, 1, 1, 1, 1, 1, 1, 1,\n",
      "        1, 1, 1, 1, 1, 1, 1, 1, 1, 1, 1, 1, 1, 1, 1, 1, 1, 1, 1, 1, 1, 1, 1, 1,\n",
      "        1, 1, 1, 1, 1, 1, 1, 1, 1, 1, 1, 1, 1, 1, 1, 1, 1, 1, 1, 1, 1, 1, 1, 1,\n",
      "        1, 1, 1, 1, 1, 1, 1, 1, 1, 1, 1, 1, 1, 1, 1, 1, 1, 1, 1, 1, 1, 1, 1, 1,\n",
      "        1, 1, 1, 1, 1, 1, 1, 1, 1, 1, 1, 1, 1, 1, 1, 1, 1, 1, 1, 1, 1, 1, 1, 1,\n",
      "        1, 1, 1, 1, 1, 1, 1, 1, 1, 1, 1, 1, 1, 1, 1, 1, 1, 1, 1, 1, 1, 1, 1, 1,\n",
      "        1, 1, 1, 1, 1, 1, 1, 1, 1, 1, 1, 1, 1, 1, 1, 1, 1, 1, 1, 1, 1, 1, 1, 1,\n",
      "        1, 1, 1, 1, 1, 1, 1, 1, 1, 1, 1, 1, 1, 1, 1, 1, 1, 1, 1, 1, 1, 2, 1, 1,\n",
      "        1, 1, 2, 1, 1, 1, 1, 1, 1, 1, 2, 1, 1, 1, 1, 1, 1, 1, 1, 1, 1, 1, 1, 1,\n",
      "        1, 1, 1, 1, 1, 1, 1, 1, 1, 1, 1, 1, 1, 1, 1, 1, 1, 1, 1, 1, 1, 1, 1, 1,\n",
      "        1, 1, 1, 1, 1, 1, 1, 1, 1, 1, 1, 1, 1, 1, 1, 1, 1, 1, 1, 1, 1, 1, 1, 1,\n",
      "        1, 1, 1, 1, 1, 1, 1, 1, 1, 1, 1, 1, 1, 1, 1, 1, 1, 1, 1, 1, 1, 1, 1, 1,\n",
      "        2, 2, 2, 2, 2, 2, 2, 2, 2, 2, 2, 2, 2, 2, 2, 2, 2, 2, 2, 2, 2, 2, 2, 2,\n",
      "        2, 2, 2, 2, 2, 2, 2, 2, 2, 2, 2, 2, 2, 2, 2, 2, 2, 2, 2, 2, 2, 2, 2, 2,\n",
      "        2, 2, 2, 2, 2, 2, 2, 2, 1, 2, 2, 2, 2, 2, 2, 2, 2, 2, 1, 2, 2, 2, 2, 2,\n",
      "        2, 2, 2, 2, 2, 2, 2, 2, 2, 2, 2, 2, 2, 2, 2, 2, 2, 2, 2, 2, 2, 2, 2, 2,\n",
      "        2, 2, 2, 2, 2, 2, 2, 2, 1, 2, 2, 2, 2, 2, 1, 2, 2, 2, 2, 2, 2, 2, 2, 2,\n",
      "        2, 2, 2, 2, 2, 2, 2, 2, 2, 2, 2, 2, 2, 2, 2, 2, 2, 2, 2, 2, 2, 2, 2, 2,\n",
      "        2, 2, 2, 2, 2, 2, 2, 2, 2, 2, 2, 2, 2, 2, 2, 2, 2, 2, 2, 2, 2, 2, 2, 2,\n",
      "        2, 2, 2, 2, 2, 2, 2, 2, 2, 2, 2, 2, 2, 2, 2, 2, 2, 2, 2, 2, 2, 2, 2, 2,\n",
      "        2, 2, 2, 2, 2, 2, 2, 2, 2, 2, 2, 2, 2, 2, 2, 2, 2, 2, 2, 2, 2, 2, 2, 2,\n",
      "        2, 2, 1, 2, 2, 2, 2, 2, 2, 2, 2, 2, 2, 2, 2, 2, 2, 2, 2, 2, 2, 2, 2, 2,\n",
      "        2, 2, 2, 2, 2, 2, 2, 2, 2, 2, 2, 2, 2, 2, 2, 2, 2, 2, 2, 2, 2, 2, 2, 2,\n",
      "        2, 2, 2, 2, 2, 2, 2, 2, 2, 2, 2, 2, 2, 2, 2, 2, 2, 2, 2, 2, 2, 2, 2, 2,\n",
      "        2, 2, 2, 2, 2, 2, 2, 2, 2, 2, 2, 2, 2, 2, 2, 2, 2, 2, 2, 2, 2, 2, 2, 2,\n",
      "        2, 2, 2, 2, 2, 2, 2, 2, 2, 2, 2, 2])\n"
     ]
    },
    {
     "name": "stderr",
     "output_type": "stream",
     "text": [
      "\n"
     ]
    }
   ],
   "source": [
    "y_preds=[]\n",
    "\n",
    "ViVit_instance.eval()\n",
    "prediction_acc=0\n",
    "with torch.inference_mode():\n",
    "    for X,y in tqdm(test_dataloader,desc=\"Making predictions\"):\n",
    "        X,y=X.to(device),y.to(device)\n",
    "        y_logits=ViVit_instance(X)\n",
    "        y_pred=torch.argmax(torch.softmax(y_logits,dim=1),dim=1)\n",
    "        # y_pred=torch.softmax(y_logits,dim=1).argmax(dim=1)\n",
    "        y_preds.append(y_pred.cpu())\n",
    "        prediction_acc+=(y_pred == y).sum().item() / len(y_pred)\n",
    "\n",
    "prediction_acc=prediction_acc/len(test_dataloader)\n",
    "\n",
    "y_pred_tensor=torch.cat(y_preds)\n",
    "\n",
    "print(\"Accuracy: \",prediction_acc)\n",
    "print(\"Predictions: \",y_pred_tensor)"
   ]
  },
  {
   "cell_type": "code",
   "execution_count": null,
   "metadata": {},
   "outputs": [],
   "source": []
  }
 ],
 "metadata": {
  "kernelspec": {
   "display_name": "venv (3.10.11)",
   "language": "python",
   "name": "python3"
  },
  "language_info": {
   "codemirror_mode": {
    "name": "ipython",
    "version": 3
   },
   "file_extension": ".py",
   "mimetype": "text/x-python",
   "name": "python",
   "nbconvert_exporter": "python",
   "pygments_lexer": "ipython3",
   "version": "3.10.11"
  }
 },
 "nbformat": 4,
 "nbformat_minor": 2
}
